{
 "cells": [
  {
   "cell_type": "code",
   "execution_count": 1,
   "id": "dee7a625-ff87-41aa-be28-e0b79e90503e",
   "metadata": {},
   "outputs": [],
   "source": [
    "import cv2\n",
    "import numpy as np\n",
    "import random\n",
    "import os"
   ]
  },
  {
   "cell_type": "code",
   "execution_count": 32,
   "id": "c53cd464-1d34-4b73-8cc5-74ad4f6dea89",
   "metadata": {},
   "outputs": [],
   "source": [
    " img = np.full((600, 900, 3), 255, dtype=np.uint8)\n",
    "# Background\n",
    "cv2.rectangle(img, (0, 0), (900, 500), (255, 255, 85), -1)  #  blue Sky\n",
    "cv2.rectangle(img, (0, 500), (900, 600), (75, 180, 70), -1)  # Ground\n",
    "\n",
    "# Sun\n",
    "cv2.circle(img, (200, 150), 60, (0, 255, 255), -1)\n",
    "\n",
    "# Tree 1#\n",
    "cv2.line(img, (710, 500), (710, 420), (30, 65, 155), 15)\n",
    "triangle1 = np.array([[640, 460], [780, 460], [710, 200]], dtype=np.int32)\n",
    "cv2.fillPoly(img, [triangle1], (75, 200, 70))\n",
    "\n",
    "# Tree 2#\n",
    "cv2.line(img, (600, 500), (600, 420), (30, 65, 155), 70)\n",
    "triangle2 = np.array([[500, 440], [700, 440], [600, 75]], dtype=np.int32)\n",
    "cv2.fillPoly(img, [triangle2], (75, 180, 70))\n",
    "\n",
    "font = cv2.FONT_HERSHEY_SIMPLEX  \n",
    "cv2.putText(img, \"Morning Sun\", (250, 100), font, 1.5, (255, 255, 255), 3, cv2.LINE_AA)\n",
    "\n",
    "# image saving#\n",
    "save_path = r'C:\\Users\\DELL\\Downloads\\man images\\image.jpg'\n",
    "cv2.imwrite(save_path, img)\n",
    "\n",
    "# Display the image\n",
    "cv2.imshow(\"Tree and Sun\", img)\n",
    "cv2.waitKey(0)\n",
    "cv2.destroyAllWindows()\n"
   ]
  },
  {
   "cell_type": "code",
   "execution_count": 33,
   "id": "c0cb3552-8d2a-4f63-add1-19f8bd6202e9",
   "metadata": {},
   "outputs": [],
   "source": [
    "img = np.full((600, 900, 3), 255, dtype=np.uint8)\n",
    "\n",
    "# Background\n",
    "cv2.rectangle(img, (0, 0), (900, 500), (0, 255, 255), -1)  # Sky\n",
    "cv2.rectangle(img, (0, 500), (900, 600), (75, 180, 70), -1)  # Ground\n",
    "\n",
    "# Sun\n",
    "cv2.circle(img, (200, 150), 60, (0, 150, 255), -1)\n",
    "\n",
    "# Tree 1#\n",
    "cv2.line(img, (710, 500), (710, 420), (30, 65, 155), 15)\n",
    "triangle1 = np.array([[640, 460], [780, 460], [710, 200]], dtype=np.int32)\n",
    "cv2.fillPoly(img, [triangle1], (75, 200, 70))\n",
    "\n",
    "# Tree 2#\n",
    "cv2.line(img, (600, 500), (600, 420), (30, 65, 155), 70)\n",
    "triangle2 = np.array([[500, 440], [700, 440], [600, 75]], dtype=np.int32)\n",
    "cv2.fillPoly(img, [triangle2], (75, 180, 70))\n",
    "\n",
    "# Add text to the image (Sun, morning text) - adjusted position\n",
    "font = cv2.FONT_HERSHEY_SIMPLEX  # You can change the font here\n",
    "cv2.putText(img, 'Evening Son', (250, 100), font, 1.5, (255, 255, 255), 3, cv2.LINE_AA)\n",
    "\n",
    "# Save the image\n",
    "save_path = r'C:\\Users\\DELL\\Downloads\\man images\\image.jpg'\n",
    "cv2.imwrite(save_path, img)\n",
    "\n",
    "# Display the image\n",
    "cv2.imshow(\"Tree and Sun\", img)\n",
    "cv2.waitKey(0)\n",
    "cv2.destroyAllWindows()\n"
   ]
  },
  {
   "cell_type": "code",
   "execution_count": 34,
   "id": "3cc1f0a1-36f5-4c83-a89b-7dc187230065",
   "metadata": {},
   "outputs": [],
   "source": [
    "img = np.full((600, 900, 3), 255, dtype=np.uint8)\n",
    "\n",
    "# Background\n",
    "cv2.rectangle(img, (0, 0), (900, 500), (0,0,0), -1)  # Sky\n",
    "cv2.rectangle(img, (0, 500), (900, 600), (75, 180, 70), -1)  # Ground\n",
    "\n",
    "# Sun\n",
    "cv2.circle(img, (200, 150), 60, (0, 150, 255), -1)\n",
    "\n",
    "# Tree 1#\n",
    "cv2.line(img, (710, 500), (710, 420), (30, 65, 155), 15)\n",
    "triangle1 = np.array([[640, 460], [780, 460], [710, 200]], dtype=np.int32)\n",
    "cv2.fillPoly(img, [triangle1], (75, 200, 70))\n",
    "\n",
    "# Tree 2#\n",
    "cv2.line(img, (600, 500), (600, 420), (30, 65, 155), 70)\n",
    "triangle2 = np.array([[500, 440], [700, 440], [600, 75]], dtype=np.int32)\n",
    "cv2.fillPoly(img, [triangle2], (75, 180, 70))\n",
    "\n",
    "# Add text to the image (Sun, morning text) - adjusted position\n",
    "font = cv2.FONT_HERSHEY_SIMPLEX  # You can change the font here\n",
    "cv2.putText(img, 'Night Moon', (250, 100), font, 1.5, (255, 255, 255), 3, cv2.LINE_AA)\n",
    "\n",
    "# Save the image\n",
    "save_path = r'C:\\Users\\DELL\\Downloads\\man images\\image.jpg'\n",
    "cv2.imwrite(save_path, img)\n",
    "\n",
    "# Display the image\n",
    "cv2.imshow(\"Tree and Sun\", img)\n",
    "cv2.waitKey(0)\n",
    "cv2.destroyAllWindows()\n"
   ]
  },
  {
   "cell_type": "code",
   "execution_count": 37,
   "id": "fc36ec1e-f24b-454d-a735-aca2b13cc21b",
   "metadata": {},
   "outputs": [],
   "source": [
    "# Create a black image (background)\n",
    "img = np.full((600, 900, 3), 255, dtype=np.uint8)\n",
    "\n",
    "# Night-time Background\n",
    "cv2.rectangle(img, (0, 0), (900, 500), (0, 0, 0), -1) \n",
    "cv2.rectangle(img, (0, 500), (900, 600), (34, 139, 34), -1) \n",
    "\n",
    "# Moon (white)\n",
    "cv2.circle(img, (700, 150), 60, (255, 255, 255), -1)  # White moon\n",
    "\n",
    "# Generate stars (random white dots in the night sky)\n",
    "num_stars = 200\n",
    "for _ in range(num_stars):\n",
    "    x = random.randint(0, 900)\n",
    "    y = random.randint(0, 500)\n",
    "    radius = random.randint(1, 3)  # Random small size for stars\n",
    "    cv2.circle(img, (x, y), radius, (255, 255, 255), -1)  # Draw the star\n",
    "\n",
    "# Tree 1\n",
    "cv2.line(img, (710, 500), (710, 420), (30, 65, 155), 15)\n",
    "triangle1 = np.array([[640, 460], [780, 460], [710, 200]], dtype=np.int32)\n",
    "cv2.fillPoly(img, [triangle1], (50, 150, 50))\n",
    "font = cv2.FONT_HERSHEY_SIMPLEX  \n",
    "cv2.putText(img, 'Night Moon', (250, 100), font, 1.5, (255, 255, 255), 3, cv2.LINE_AA)\n",
    "\n",
    "# Tree 2\n",
    "cv2.line(img, (600, 500), (600, 420), (30, 65, 155), 70)\n",
    "triangle2 = np.array([[500, 440], [700, 440], [600, 75]], dtype=np.int32)\n",
    "cv2.fillPoly(img, [triangle2], (50, 150, 50))\n",
    "\n",
    "# Save the image\n",
    "save_path = r'C:\\Users\\DELL\\Downloads\\man images\\night_with_star_image.jpg'\n",
    "cv2.imwrite(save_path, img)\n",
    "\n",
    "# Display the image\n",
    "cv2.imshow(\"Night Scene with Grass\", img)\n",
    "cv2.waitKey(0)\n",
    "cv2.destroyAllWindows()\n"
   ]
  },
  {
   "cell_type": "code",
   "execution_count": 13,
   "id": "9d0efc0c-c211-41be-ab23-2436a7c8a034",
   "metadata": {},
   "outputs": [
    {
     "ename": "FileExistsError",
     "evalue": "[WinError 183] Cannot create a file when that file already exists: 'C:\\\\Users\\\\DELL\\\\Downloads\\\\man images'",
     "output_type": "error",
     "traceback": [
      "\u001b[1;31m---------------------------------------------------------------------------\u001b[0m",
      "\u001b[1;31mFileExistsError\u001b[0m                           Traceback (most recent call last)",
      "Cell \u001b[1;32mIn[13], line 1\u001b[0m\n\u001b[1;32m----> 1\u001b[0m os\u001b[38;5;241m.\u001b[39mmkdir(\u001b[38;5;124mr\u001b[39m\u001b[38;5;124m\"\u001b[39m\u001b[38;5;124mC:\u001b[39m\u001b[38;5;124m\\\u001b[39m\u001b[38;5;124mUsers\u001b[39m\u001b[38;5;124m\\\u001b[39m\u001b[38;5;124mDELL\u001b[39m\u001b[38;5;124m\\\u001b[39m\u001b[38;5;124mDownloads\u001b[39m\u001b[38;5;124m\\\u001b[39m\u001b[38;5;124mman images\u001b[39m\u001b[38;5;124m\"\u001b[39m)\n",
      "\u001b[1;31mFileExistsError\u001b[0m: [WinError 183] Cannot create a file when that file already exists: 'C:\\\\Users\\\\DELL\\\\Downloads\\\\man images'"
     ]
    }
   ],
   "source": [
    "os.mkdir(r\"C:\\Users\\DELL\\Downloads\\man images\")"
   ]
  },
  {
   "cell_type": "code",
   "execution_count": 3,
   "id": "5cb54249-482b-43a0-89c3-1a8770dc06ee",
   "metadata": {},
   "outputs": [],
   "source": [
    "for images in os.listdir(r\"C:\\Users\\DELL\\Downloads\\man images\"):\n",
    "    img=cv2.imread(r\"C:\\Users\\DELL\\Downloads\\man images\\{}\".format(images))\n",
    "    cv2.imshow(\"animation\",img)\n",
    "    cv2.waitKey()\n",
    "cv2.destroyAllWindows()"
   ]
  },
  {
   "cell_type": "code",
   "execution_count": null,
   "id": "07bc6b0e-e3aa-43ed-956e-8048bc65455d",
   "metadata": {},
   "outputs": [],
   "source": []
  }
 ],
 "metadata": {
  "kernelspec": {
   "display_name": "Python 3 (ipykernel)",
   "language": "python",
   "name": "python3"
  },
  "language_info": {
   "codemirror_mode": {
    "name": "ipython",
    "version": 3
   },
   "file_extension": ".py",
   "mimetype": "text/x-python",
   "name": "python",
   "nbconvert_exporter": "python",
   "pygments_lexer": "ipython3",
   "version": "3.12.4"
  }
 },
 "nbformat": 4,
 "nbformat_minor": 5
}
